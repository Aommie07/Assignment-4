{
 "cells": [
  {
   "cell_type": "code",
   "execution_count": null,
   "id": "e4138a00",
   "metadata": {},
   "outputs": [],
   "source": []
  },
  {
   "cell_type": "markdown",
   "id": "4c69c3e7",
   "metadata": {},
   "source": [
    "even and odd \n",
    "iterate for loop from number 1 to n:\n",
    "if the number is even, print \"[number]\" is even\"\n",
    "otherwise, print \"[number]\" is odd:\n",
    "\n",
    "if n = 5 ==> expected output\n",
    "0 is even.\n",
    "1 is odd.\n",
    "2 is even.\n",
    "3 is odd.\n",
    "4 is even."
   ]
  },
  {
   "cell_type": "code",
   "execution_count": null,
   "id": "88a98252",
   "metadata": {},
   "outputs": [
    {
     "name": "stdout",
     "output_type": "stream",
     "text": [
      "0 is even.\n",
      "1 is odd.\n",
      "2 is even.\n",
      "3 is odd.\n",
      "4 is even.\n"
     ]
    }
   ],
   "source": [
    "n = 5\n",
    "\n",
    "for i in range(n):\n",
    "    if i % 2 == 0:\n",
    "        print(i, \"is even.\")\n",
    "    else:\n",
    "        print(i, \"is odd.\")\n"
   ]
  },
  {
   "cell_type": "markdown",
   "id": "794a7835",
   "metadata": {},
   "source": [
    "Division\n",
    "-define number n = 100\n",
    "-Use a loop from 1 to 10 (the value of looping variable is 1 to 10)\n",
    "-if the result of quotient (number/i) is greater than 5 => print (\"The result is large\")\n",
    "-if the result of quotient (number/i) is exactly equal to 6 ==> print skip the loop with continue\n"
   ]
  },
  {
   "cell_type": "code",
   "execution_count": 4,
   "id": "a8113b67",
   "metadata": {},
   "outputs": [
    {
     "name": "stdout",
     "output_type": "stream",
     "text": [
      "The result is large\n",
      "The result is large\n",
      "The result is large\n",
      "The result is large\n",
      "The result is large\n",
      "The result is large\n",
      "The result is large\n",
      "The result is large\n",
      "The result is large\n",
      "The result is large\n"
     ]
    }
   ],
   "source": [
    "n = 100\n",
    "\n",
    "for i in range(1, 11):  \n",
    "    quotient = n / i\n",
    "    if quotient > 5:\n",
    "        print(\"The result is large\")\n",
    "    elif quotient == 6:\n",
    "        continue  \n",
    "    else:\n",
    "        print(\"quotient =\", quotient)\n",
    "\n"
   ]
  },
  {
   "cell_type": "markdown",
   "id": "5161e375",
   "metadata": {},
   "source": [
    "Login Authentication\n",
    "\n",
    "- Create a dictionary named \"credentials\" with username as key and password as values.\n",
    "- Initialize the dictionary with three users: (username - user1 , password - abc123), (username - \n",
    "admin, password - adminpass, username - guest, password - guest123)\n",
    "- Ask the user to enter a username and password\n",
    "- If the username exiists and the password matches, print(\"Login succesful\")\n",
    "- If the username exists but the password is wrong, print(\"Incorrect password\")\n",
    "- If the username does not exist, print \"User not found\""
   ]
  },
  {
   "cell_type": "code",
   "execution_count": 12,
   "id": "49321be0",
   "metadata": {},
   "outputs": [
    {
     "name": "stdout",
     "output_type": "stream",
     "text": [
      "Login successful\n"
     ]
    }
   ],
   "source": [
    "\n",
    "credentials = {\"Aommie007\": \"456456\",\n",
    "    \"Admin\": \"adminpass\",\n",
    "    \"Guest\": \"guest123\"}\n",
    "\n",
    "username = input(\"Enter username: \")\n",
    "password = input(\"Enter password: \")\n",
    "\n",
    "if username in credentials:\n",
    "    if credentials[username] == password:\n",
    "        print(\"Login successful\")\n",
    "    else:\n",
    "        print(\"Incorrect password\")\n",
    "else:\n",
    "    print(\"User not found\")\n"
   ]
  },
  {
   "cell_type": "code",
   "execution_count": 23,
   "id": "136e0a05",
   "metadata": {},
   "outputs": [
    {
     "name": "stdout",
     "output_type": "stream",
     "text": [
      "* * * * * * \n",
      "* * * * * * \n",
      "* * * * * * \n",
      "* * * * * * \n",
      "* * * * * * \n",
      "* * * * * * \n"
     ]
    }
   ],
   "source": [
    "stars = 6\n",
    "rows = 6\n",
    "for i in range(1, rows+1):\n",
    "    for j in range(1, stars+1):\n",
    "        print(\"*\",end=\" \")\n",
    "    print()"
   ]
  },
  {
   "cell_type": "markdown",
   "id": "fbc76c7d",
   "metadata": {},
   "source": [
    "Shopping Cart checkout\n",
    "\n",
    "-Use initial variable total_bill=0\n",
    "-Ask user to add price and add the price to total_bill\n",
    "-If total_bill>=1000, print (\"limit reached. You cannot but anymore\" and break the loop)\n",
    "-otherwise, ask user to add price"
   ]
  },
  {
   "cell_type": "code",
   "execution_count": 29,
   "id": "2c430ed9",
   "metadata": {},
   "outputs": [
    {
     "name": "stdout",
     "output_type": "stream",
     "text": [
      "Current total: 450.0\n",
      "Limit reached. You cannot buy anymore.\n"
     ]
    }
   ],
   "source": [
    "total_bill=0\n",
    "\n",
    "while total_bill<=1000:\n",
    "    price = float(input(\"Enter item price: \"))\n",
    "    total_bill += price\n",
    "\n",
    "    if total_bill >= 1000:\n",
    "        print(\"Limit reached. You cannot buy anymore.\")\n",
    "        break\n",
    "    else:\n",
    "        print(f\"Current total: {total_bill}\")\n"
   ]
  }
 ],
 "metadata": {
  "kernelspec": {
   "display_name": "Python 3",
   "language": "python",
   "name": "python3"
  },
  "language_info": {
   "codemirror_mode": {
    "name": "ipython",
    "version": 3
   },
   "file_extension": ".py",
   "mimetype": "text/x-python",
   "name": "python",
   "nbconvert_exporter": "python",
   "pygments_lexer": "ipython3",
   "version": "3.12.6"
  }
 },
 "nbformat": 4,
 "nbformat_minor": 5
}
